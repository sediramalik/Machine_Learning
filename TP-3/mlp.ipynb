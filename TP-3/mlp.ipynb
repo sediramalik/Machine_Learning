{
 "cells": [
  {
   "cell_type": "markdown",
   "metadata": {},
   "source": [
    "# Introduction\n",
    "\n",
    "The objective of this lab is to dive into particular kind of neural network: the *Multi-Layer Perceptron* (MLP).\n",
    "\n",
    "To start, let us take the dataset from the previous lab (hydrodynamics of sailing boats) and use scikit-learn to train a MLP instead of our hand-made single perceptron.\n",
    "The code below is already complete and is meant to give you an idea of how to construct an MLP with scikit-learn. You can execute it, taking the time to understand the idea behind each cell."
   ]
  },
  {
   "cell_type": "code",
   "execution_count": 1,
   "metadata": {},
   "outputs": [
    {
     "name": "stdout",
     "output_type": "stream",
     "text": [
      "[[-5.     0.6    4.78   4.24   3.15   0.35 ]\n",
      " [-5.     0.565  4.77   3.99   3.15   0.15 ]\n",
      " [-2.3    0.565  4.78   5.35   2.76   0.15 ]\n",
      " ...\n",
      " [-2.3    0.53   4.76   3.68   3.16   0.2  ]\n",
      " [-5.     0.6    4.78   4.24   3.15   0.275]\n",
      " [-2.3    0.53   5.11   3.69   3.51   0.35 ]]\n",
      "[8.620e+00 1.800e-01 2.900e-01 6.200e+00 5.900e-01 1.820e+00 5.587e+01\n",
      " 4.500e-01 3.450e+00 1.830e+00 3.246e+01 2.460e+00 8.000e-02 1.493e+01\n",
      " 1.360e+00 3.462e+01 3.900e-01 1.276e+01 1.090e+00 1.310e+00 3.690e+00\n",
      " 3.275e+01 3.048e+01 1.850e+00 1.100e-01 5.570e+00 2.014e+01 3.738e+01\n",
      " 2.620e+00 5.190e+00 6.242e+01 7.800e-01 2.063e+01 1.760e+00 1.070e+00\n",
      " 1.570e+00 5.517e+01 5.410e+00 7.160e+00 1.156e+01 7.500e-01 6.310e+00\n",
      " 2.230e+00 2.910e+00 2.770e+00 4.900e-01 2.414e+01 2.330e+00 4.700e-01\n",
      " 1.308e+01 1.430e+00 1.199e+01 2.500e-01 6.400e-01 2.050e+00 8.600e-01\n",
      " 2.590e+00 6.600e-01 8.000e-02 3.800e-01 2.830e+00 3.564e+01 1.370e+00\n",
      " 4.600e-01 5.000e-02 2.620e+00 3.700e-01 3.090e+00 6.400e-01 2.730e+00\n",
      " 1.700e-01 4.700e-01 4.300e-01 2.140e+01 3.040e+00 7.950e+00 2.396e+01\n",
      " 2.041e+01 1.020e+00 1.373e+01 3.850e+00 3.200e-01 3.700e+00 1.900e+00\n",
      " 3.400e-01 2.160e+00 5.014e+01 3.350e+00 7.700e-01 3.500e-01 3.714e+01\n",
      " 2.170e+00 7.000e-01 2.830e+00 1.970e+00 8.600e-01 4.120e+00 4.140e+00\n",
      " 5.790e+00 9.700e-01 1.370e+00 2.011e+01 4.420e+00 5.190e+00 4.090e+00\n",
      " 2.280e+00 3.397e+01 4.000e-01 1.570e+00 6.000e-02 3.090e+00 3.314e+01\n",
      " 2.109e+01 1.190e+00 1.370e+00 5.036e+01 2.880e+00 6.500e-01 7.140e+00\n",
      " 3.500e-01 1.280e+00 8.040e+00 2.400e-01 1.377e+01 9.000e-02 3.795e+01\n",
      " 1.959e+01 3.009e+01 2.000e-01 2.600e-01 5.060e+00 2.151e+01 5.000e-01\n",
      " 7.110e+00 1.960e+00 1.240e+00 2.734e+01 7.510e+00 4.610e+00 7.740e+00\n",
      " 1.249e+01 1.980e+00 9.070e+00 5.820e+00 7.190e+00 1.500e-01 2.000e-01\n",
      " 4.150e+00 1.918e+01 5.450e+00 4.949e+01 2.151e+01 4.350e+00 1.990e+00\n",
      " 5.544e+01 2.680e+00 9.450e+00 8.030e+00 1.800e-01 1.010e+00 4.729e+01\n",
      " 5.540e+00 4.700e-01 3.397e+01 7.370e+00 4.000e-02 4.914e+01 5.646e+01\n",
      " 6.900e-01 5.960e+00 3.546e+01 7.000e-01 2.980e+00 2.400e-01 7.300e-01\n",
      " 1.300e+00 1.193e+01 2.199e+01 5.036e+01 3.501e+01 2.610e+00 1.670e+00\n",
      " 9.200e-01 1.850e+00 1.960e+00 1.600e-01 1.240e+01 1.940e+00 1.700e-01\n",
      " 2.315e+01 1.239e+01 9.300e-01 3.760e+00 5.423e+01 6.300e-01 2.091e+01\n",
      " 4.666e+01 5.199e+01 1.280e+00 3.290e+00 4.990e+00 2.300e-01 6.085e+01\n",
      " 2.305e+01 4.000e-02 4.340e+00 1.620e+00 1.650e+00 7.800e-01 1.000e-01\n",
      " 3.000e-02 9.000e-02 1.280e+01 1.286e+01 4.438e+01 3.812e+01 8.470e+00\n",
      " 1.060e+00 1.215e+01 5.070e+00 1.500e-01 2.041e+01 3.600e-01 3.990e+00\n",
      " 2.000e-01 4.134e+01 1.590e+00 8.250e+00 2.518e+01 3.430e+00 1.227e+01\n",
      " 5.500e-01 1.700e-01 2.700e-01 4.460e+00 9.300e-01 5.307e+01 1.631e+01\n",
      " 2.940e+00 2.400e-01 3.200e-01 3.760e+00 3.990e+00 1.600e-01 8.300e-01\n",
      " 4.713e+01 4.210e+00 4.400e-01 1.110e+00 5.150e+01 4.000e-01 1.200e-01\n",
      " 7.000e-02 7.900e-01 1.240e+00 5.270e+00 1.150e+00 2.800e-01 1.210e+00\n",
      " 1.970e+00 3.323e+01 4.830e+00 5.094e+01 8.680e+00 1.000e-02 8.030e+00\n",
      " 2.102e+01 1.396e+01 2.490e+00 8.000e-02 7.870e+00 3.458e+01 1.140e+00\n",
      " 6.000e+00 3.234e+01 1.411e+01 2.413e+01 7.300e-01 3.870e+00 4.410e+00\n",
      " 1.525e+01 3.450e+01 1.130e+00 2.355e+01 1.424e+01 1.036e+01 6.300e-01\n",
      " 4.620e+00 1.180e+00 2.630e+00 3.500e-01 4.177e+01 5.180e+01 3.177e+01\n",
      " 8.760e+00 2.600e-01 1.100e-01 5.600e-01 1.286e+01 8.280e+00 5.177e+01\n",
      " 1.760e+00 1.271e+01 6.860e+00 6.500e-01 7.600e-01 2.840e+00 7.840e+00]\n"
     ]
    }
   ],
   "source": [
    "# Importing the dataset\n",
    "import numpy as np\n",
    "dataset = np.genfromtxt(\"yacht_hydrodynamics.data\", delimiter='')\n",
    "X = dataset[:, :-1]\n",
    "Y = dataset[:, -1]\n",
    "print(X)\n",
    "print(Y)"
   ]
  },
  {
   "cell_type": "code",
   "execution_count": 2,
   "metadata": {},
   "outputs": [
    {
     "name": "stdout",
     "output_type": "stream",
     "text": [
      "[[-1.73302265  1.5423783  -0.03418367  0.55395671 -0.2294799   0.62017367]\n",
      " [-1.73302265  0.03714219 -0.07376475  0.09717082 -0.2294799  -1.36438208]\n",
      " [ 0.05415696  0.03714219 -0.03418367  2.58208609 -1.80462994 -1.36438208]\n",
      " ...\n",
      " [ 0.05415696 -1.46809393 -0.11334584 -0.46924369 -0.18909144 -0.86824314]\n",
      " [-1.73302265  1.5423783  -0.03418367  0.55395671 -0.2294799  -0.12403473]\n",
      " [ 0.05415696 -1.46809393  1.27199221 -0.45097226  1.22450475  0.62017367]]\n"
     ]
    }
   ],
   "source": [
    "# Preprocessing: scale input data \n",
    "from sklearn.preprocessing import StandardScaler\n",
    "sc = StandardScaler()\n",
    "X = sc.fit_transform(X)\n",
    "print(X)"
   ]
  },
  {
   "cell_type": "code",
   "execution_count": 3,
   "metadata": {},
   "outputs": [],
   "source": [
    "# Split dataset into training and test set\n",
    "from sklearn.model_selection import train_test_split\n",
    "x_train, x_test, y_train, y_test = train_test_split(X, Y,random_state=1, test_size = 0.20)\n"
   ]
  },
  {
   "cell_type": "code",
   "execution_count": 4,
   "metadata": {},
   "outputs": [
    {
     "data": {
      "text/plain": [
       "MLPRegressor(max_iter=3000, random_state=1)"
      ]
     },
     "execution_count": 4,
     "metadata": {},
     "output_type": "execute_result"
    }
   ],
   "source": [
    "# Define a multi-layer perceptron (MLP) network for regression\n",
    "from sklearn.neural_network import MLPRegressor\n",
    "mlp = MLPRegressor(max_iter=3000, random_state=1) # define the model, with default params\n",
    "mlp.fit(x_train, y_train) # train the MLP"
   ]
  },
  {
   "cell_type": "code",
   "execution_count": 5,
   "metadata": {},
   "outputs": [
    {
     "name": "stdout",
     "output_type": "stream",
     "text": [
      "Train score:  0.9940765369322633\n",
      "Test score:   0.9899773031580283\n"
     ]
    },
    {
     "data": {
      "text/plain": [
       "Text(0, 0.5, 'Loss')"
      ]
     },
     "execution_count": 5,
     "metadata": {},
     "output_type": "execute_result"
    },
    {
     "data": {
      "image/png": "[encoded data removed]",
      "text/plain": [
       "<Figure size 432x288 with 1 Axes>"
      ]
     },
     "metadata": {
      "needs_background": "light"
     },
     "output_type": "display_data"
    }
   ],
   "source": [
    "# Evaluate the model\n",
    "from matplotlib import pyplot as plt\n",
    "\n",
    "print('Train score: ', mlp.score(x_train, y_train))\n",
    "print('Test score:  ', mlp.score(x_test, y_test))\n",
    "plt.plot(mlp.loss_curve_)\n",
    "plt.xlabel(\"Iterations\")\n",
    "plt.ylabel(\"Loss\")\n"
   ]
  },
  {
   "cell_type": "code",
   "execution_count": 6,
   "metadata": {},
   "outputs": [
    {
     "data": {
      "text/plain": [
       "Text(0, 0.5, 'f(examples)')"
      ]
     },
     "execution_count": 6,
     "metadata": {},
     "output_type": "execute_result"
    },
    {
     "data": {
      "image/png": "[encoded data removed]",
      "text/plain": [
       "<Figure size 432x288 with 1 Axes>"
      ]
     },
     "metadata": {
      "needs_background": "light"
     },
     "output_type": "display_data"
    }
   ],
   "source": [
    "# Plot the results\n",
    "num_samples_to_plot = 20\n",
    "plt.plot(y_test[0:num_samples_to_plot], 'ro', label='y')\n",
    "yw = mlp.predict(x_test)\n",
    "plt.plot(yw[0:num_samples_to_plot], 'bx', label='$\\hat{y}$')\n",
    "plt.legend()\n",
    "plt.xlabel(\"Examples\")\n",
    "plt.ylabel(\"f(examples)\")"
   ]
  },
  {
   "cell_type": "markdown",
   "metadata": {},
   "source": [
    "### Analyzing the network\n",
    "\n",
    "Many details of the network are currently hidden as default parameters.\n",
    "\n",
    "Using the [documentation of the MLPRegressor](https://scikit-learn.org/stable/modules/generated/sklearn.neural_network.MLPRegressor.html), answer the following questions.\n",
    "\n",
    "- What is the structure of the network?\n",
    "- What it is the algorithm used for training? Is there algorithm available that we mentioned during the courses?\n",
    "- How does the training algorithm decides to stop the training?"
   ]
  },
  {
   "cell_type": "markdown",
   "metadata": {},
   "source": [
    "# Onto a more challenging dataset: house prices\n",
    "\n",
    "For the rest of this lab, we will use the (more challenging) [California Housing Prices dataset](https://www.kaggle.com/datasets/camnugent/california-housing-prices)."
   ]
  },
  {
   "cell_type": "code",
   "execution_count": 7,
   "metadata": {},
   "outputs": [],
   "source": [
    "# clean all previously defined variables for the sailing boats\n",
    "%reset -f"
   ]
  },
  {
   "cell_type": "code",
   "execution_count": 8,
   "metadata": {},
   "outputs": [
    {
     "ename": "NameError",
     "evalue": "name 'y' is not defined",
     "output_type": "error",
     "traceback": [
      "\u001b[0;31m---------------------------------------------------------------------------\u001b[0m",
      "\u001b[0;31mNameError\u001b[0m                                 Traceback (most recent call last)",
      "Input \u001b[0;32mIn [8]\u001b[0m, in \u001b[0;36m<cell line: 12>\u001b[0;34m()\u001b[0m\n\u001b[1;32m      9\u001b[0m Y \u001b[38;5;241m=\u001b[39m cal_housing\u001b[38;5;241m.\u001b[39mtarget[:num_samples]\n\u001b[1;32m     11\u001b[0m X\u001b[38;5;241m.\u001b[39mhead(\u001b[38;5;241m10\u001b[39m) \u001b[38;5;66;03m# print the first 10 values\u001b[39;00m\n\u001b[0;32m---> 12\u001b[0m \u001b[38;5;28mprint\u001b[39m(\u001b[43my\u001b[49m)\n",
      "\u001b[0;31mNameError\u001b[0m: name 'y' is not defined"
     ]
    }
   ],
   "source": [
    "\"\"\"Import the required modules\"\"\"\n",
    "from sklearn.datasets import fetch_california_housing\n",
    "import pandas as pd\n",
    "\n",
    "num_samples = 2000 # only use the first N samples to limit training time\n",
    "\n",
    "cal_housing = fetch_california_housing()\n",
    "X = pd.DataFrame(cal_housing.data,columns=cal_housing.feature_names)[:num_samples]\n",
    "Y = cal_housing.target[:num_samples]\n",
    "\n",
    "X.head(10) # print the first 10 values\n",
    "print(y)\n"
   ]
  },
  {
   "cell_type": "markdown",
   "metadata": {},
   "source": [
    "Note that each row of the dataset represents a **group of houses** (one district). The `target` variable denotes the average house value in units of 100.000 USD. Median Income is per 10.000 USD."
   ]
  },
  {
   "cell_type": "markdown",
   "metadata": {},
   "source": [
    "### Extracting a subpart of the dataset for testing\n",
    "\n",
    "- Split the dataset between a training set (75%) and a test set (25%)\n",
    "\n",
    "Please use the conventional names `X_train`, `X_test`, `y_train` and `y_test`."
   ]
  },
  {
   "cell_type": "code",
   "execution_count": null,
   "metadata": {},
   "outputs": [],
   "source": [
    "from sklearn.model_selection import train_test_split\n",
    "x_train, x_test, y_train, y_test = train_test_split(X, Y,random_state=10, test_size = 0.25)# TODO\n"
   ]
  },
  {
   "cell_type": "markdown",
   "metadata": {},
   "source": [
    "### Scaling the input data\n",
    "\n",
    "\n",
    "A step of **scaling** of the data is often useful to ensure that all input data centered on 0 and with a fixed variance.\n",
    "\n",
    "Standardization of a dataset is a common requirement for many machine learning estimators: they might behave badly if the individual features do not more or less look like standard normally distributed data (e.g. Gaussian with 0 mean and unit variance). The function `StandardScaler` from `sklearn.preprocessing` computes the standard score of a sample as:\n",
    "\n",
    "```\n",
    "z = (x - u) / s\n",
    "```\n",
    "\n",
    "where `u` is the mean of the training samples, and `s` is the standard deviation of the training samples.\n",
    "\n",
    "Centering and scaling happen independently on each feature by computing the relevant statistics on the samples in the training set. Mean and standard deviation are then stored to be used on later data using transform.\n",
    "\n",
    " - Apply the standard scaler to both the training dataset (`X_train`) and the test dataset (`X_test`).\n",
    " - Make sure that **exactly the same transformation** is applied to both datasets.\n",
    "\n",
    "[Documentation of standard scaler in scikit learn](https://scikit-learn.org/stable/modules/generated/sklearn.preprocessing.StandardScaler.html)\n",
    "\n"
   ]
  },
  {
   "cell_type": "code",
   "execution_count": null,
   "metadata": {},
   "outputs": [],
   "source": [
    "from sklearn.preprocessing import StandardScaler\n",
    "sc = StandardScaler()\n",
    "x_train = sc.fit_transform(x_train)\n",
    "x_test = sc.fit_transform(x_test)"
   ]
  },
  {
   "cell_type": "markdown",
   "metadata": {},
   "source": [
    "## Overfitting\n",
    "\n",
    "In this part, we are only interested in maximizing the **train score**, i.e., having the network memorize the training examples as well as possible.\n",
    "\n",
    "- Propose a parameterization of the network (shape and learning parameters) that will maximize the train score (without considering the test score).\n",
    "\n",
    "While doing this, you should (1) remain within two minutes of training time, and (2) obtain a score that is greater than 0.90.\n",
    "\n",
    "- Is the **test** score substantially smaller than the **train** score (indicator of overfitting) ?\n",
    "- Explain how the parameters you chose allow the learned model to overfit."
   ]
  },
  {
   "cell_type": "code",
   "execution_count": null,
   "metadata": {},
   "outputs": [],
   "source": [
    "# Define a multi-layer perceptron (MLP) network for regression\n",
    "from sklearn.neural_network import MLPRegressor\n",
    "mlp = MLPRegressor(max_iter=500 ,random_state=5, alpha = 3e-7, hidden_layer_sizes= (100,100,100,100,100,100) )# define the model, with default params\n",
    "mlp.fit(x_train, y_train) # train the ML\n",
    "\n",
    "# Evaluate the model\n",
    "from matplotlib import pyplot as plt\n",
    "\n",
    "print('Train score: ', mlp.score(x_train, y_train))\n",
    "print('Test score:  ', mlp.score(x_test, y_test))\n",
    "plt.plot(mlp.loss_curve_)\n",
    "plt.xlabel(\"Iterations\")\n",
    "plt.ylabel(\"Loss\")"
   ]
  },
  {
   "cell_type": "markdown",
   "metadata": {},
   "source": [
    "## Hyperparameter tuning\n",
    "\n",
    "In this section, we are now interested in maximizing the ability of the network to predict the value of unseen examples, i.e., maximizing the **test** score.\n",
    "You should experiment with the possible parameters of the network in order to obtain a good test score, ideally with a small learning time.\n",
    "\n",
    "Parameters to vary:\n",
    "\n",
    "- number and size of the hidden layers\n",
    "- activation function\n",
    "- stopping conditions\n",
    "- maximum number of iterations\n",
    "- initial learning rate value\n",
    "\n",
    "Results to present for the tested configurations:\n",
    "\n",
    "- Train/test score\n",
    "- training time\n",
    "\n",
    "\n",
    "Present in a table the various parameters tested and the associated results. You can find in the last cell of the notebook a code snippet that will allow you to plot tables from python structure.\n",
    "Be methodical in the way your run your experiments and collect data. For each run, you should record the parameters and results into an external data structure.\n",
    "\n",
    "(Note that, while we encourage you to explore the solution space manually, there are existing methods in scikit-learn and other learning framework to automate this step as well, e.g., [GridSearchCV](https://scikit-learn.org/stable/modules/generated/sklearn.model_selection.GridSearchCV.html))"
   ]
  },
  {
   "cell_type": "code",
   "execution_count": null,
   "metadata": {},
   "outputs": [],
   "source": [
    "# Define a multi-layer perceptron (MLP) network for regression\n",
    "from sklearn.neural_network import MLPRegressor\n",
    "mlp = MLPRegressor(learning_rate_init = 0.001,activation = \"logistic\", max_iter=500 ,random_state=5, alpha = 3e-7, hidden_layer_sizes= (100,100,100,100))# define the model, with default params\n",
    "mlp.fit(x_train, y_train) # train the ML\n",
    "\n",
    "# Evaluate the model\n",
    "from matplotlib import pyplot as plt\n",
    "\n",
    "print('Train score: ', mlp.score(x_train, y_train))\n",
    "print('Test score:  ', mlp.score(x_test, y_test))\n",
    "plt.plot(mlp.loss_curve_)\n",
    "plt.xlabel(\"Iterations\")\n",
    "plt.ylabel(\"Loss\")   "
   ]
  },
  {
   "cell_type": "code",
   "execution_count": 9,
   "metadata": {
    "scrolled": true
   },
   "outputs": [
    {
     "data": {
      "text/html": [
       "<div>\n",
       "<style scoped>\n",
       "    .dataframe tbody tr th:only-of-type {\n",
       "        vertical-align: middle;\n",
       "    }\n",
       "\n",
       "    .dataframe tbody tr th {\n",
       "        vertical-align: top;\n",
       "    }\n",
       "\n",
       "    .dataframe thead th {\n",
       "        text-align: right;\n",
       "    }\n",
       "</style>\n",
       "<table border=\"1\" class=\"dataframe\">\n",
       "  <thead>\n",
       "    <tr style=\"text-align: right;\">\n",
       "      <th></th>\n",
       "      <th>activation</th>\n",
       "      <th>max_iter</th>\n",
       "      <th>early_stopping</th>\n",
       "      <th>test_score</th>\n",
       "    </tr>\n",
       "  </thead>\n",
       "  <tbody>\n",
       "    <tr>\n",
       "      <th>1</th>\n",
       "      <td>tanh</td>\n",
       "      <td>500</td>\n",
       "      <td>False</td>\n",
       "      <td>0.91</td>\n",
       "    </tr>\n",
       "    <tr>\n",
       "      <th>2</th>\n",
       "      <td>logistic</td>\n",
       "      <td>500</td>\n",
       "      <td>False</td>\n",
       "      <td>0.91</td>\n",
       "    </tr>\n",
       "    <tr>\n",
       "      <th>3</th>\n",
       "      <td>identity</td>\n",
       "      <td>500</td>\n",
       "      <td>False</td>\n",
       "      <td>0.91</td>\n",
       "    </tr>\n",
       "    <tr>\n",
       "      <th>0</th>\n",
       "      <td>relu</td>\n",
       "      <td>500</td>\n",
       "      <td>False</td>\n",
       "      <td>0.87</td>\n",
       "    </tr>\n",
       "  </tbody>\n",
       "</table>\n",
       "</div>"
      ],
      "text/plain": [
       "  activation max_iter  early_stopping  test_score\n",
       "1       tanh      500           False        0.91\n",
       "2   logistic      500           False        0.91\n",
       "3   identity      500           False        0.91\n",
       "0       relu      500           False        0.87"
      ]
     },
     "execution_count": 9,
     "metadata": {},
     "output_type": "execute_result"
    }
   ],
   "source": [
    "# Code snippet to display a nice table in jupyter notebooks  (remove from report)\n",
    "import pandas as pd\n",
    "import numpy as np\n",
    "data = []\n",
    "data.append({'activation': 'relu', 'max_iter': '500','early_stopping': False, 'test_score': 0.87})\n",
    "data.append({'activation': 'tanh', 'max_iter': '500', 'early_stopping': False, 'test_score': 0.91})\n",
    "data.append({'activation': 'logistic', 'max_iter': '500', 'early_stopping': False, 'test_score': 0.91})\n",
    "data.append({'activation': 'identity', 'max_iter': '500', 'early_stopping': False, 'test_score': 0.91})\n",
    "\n",
    "table = pd.DataFrame.from_dict(data)\n",
    "table = table.replace(np.nan, '-')\n",
    "table = table.sort_values(by='test_score', ascending=False)\n",
    "table"
   ]
  },
  {
   "cell_type": "markdown",
   "metadata": {},
   "source": [
    "## Evaluation\n",
    "\n",
    "- From your experiments, what seems to be the best model (i.e. set of parameters) for predicting the value of a house?\n",
    "\n",
    "Unless you used cross-validation, you have probably used the \"test\" set to select the best model among the ones you experimented with.\n",
    "Since your model is the one that worked best on the \"test\" set, your selection is *biased*.\n",
    "\n",
    "In all rigor the original dataset should be split in three:\n",
    "\n",
    "- the **training set**, on which each model is trained\n",
    "- the **validation set**, that is used to pick the best parameters of the model \n",
    "- the **test set**, on which we evaluate the final model\n",
    "\n",
    "\n",
    "Evaluate the score of your algorithm on a test set that was not used for training nor for model selection.\n",
    "\n"
   ]
  },
  {
   "cell_type": "code",
   "execution_count": null,
   "metadata": {},
   "outputs": [],
   "source": []
  },
  {
   "cell_type": "code",
   "execution_count": null,
   "metadata": {},
   "outputs": [],
   "source": []
  }
 ],
 "metadata": {
  "kernelspec": {
   "display_name": "Python 3 (ipykernel)",
   "language": "python",
   "name": "python3"
  },
  "language_info": {
   "codemirror_mode": {
    "name": "ipython",
    "version": 3
   },
   "file_extension": ".py",
   "mimetype": "text/x-python",
   "name": "python",
   "nbconvert_exporter": "python",
   "pygments_lexer": "ipython3",
   "version": "3.8.10"
  }
 },
 "nbformat": 4,
 "nbformat_minor": 4
}
